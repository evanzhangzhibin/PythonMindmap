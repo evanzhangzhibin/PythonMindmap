{
 "cells": [
  {
   "cell_type": "markdown",
   "metadata": {
    "collapsed": true
   },
   "source": [
    "# 流畅的 Python\n",
    "\n",
    "## 第二部分 数据结构"
   ]
  },
  {
   "cell_type": "markdown",
   "metadata": {},
   "source": [
    "## 第2章 序列构成的数组\n",
    "\n",
    "Python 用统一的风格处理序列数据。深入了解 Python 中的不同序列类型，不但能让我们避免重新发明轮子，它们的 API 还能帮助我们把自己定义的 API 设计得跟原生的序列类型一样，或者是跟未来可能出现的序列类型保持兼容。\n",
    "\n",
    "Python handles sequential data in a unified style. An insight into the different sequence types in Python not only prevents us from reinventing the wheel, but their API also helps us design our own API as a native sequence type, or is compatible with the possible sequence types in the future."
   ]
  },
  {
   "cell_type": "markdown",
   "metadata": {
    "collapsed": true
   },
   "source": [
    "### 2.1 内置序列类型概览"
   ]
  },
  {
   "cell_type": "markdown",
   "metadata": {},
   "source": [
    "容器序列 list, tuple, collections.deque\n",
    "\n",
    "扁平序列 str, bytes, bytearray, memoryview, array.array\n",
    "容器序列里存放的是它们所包含的任意类型的对象的引用，而扁平序列里存放的是值而不是引用，扁平序列其实是一段连续的内存空间。\n",
    "\n",
    "按照能够被修改来分类：\n",
    "可变序列 list, bytearray, array.array, collections.deque, memoryview\n",
    "不可变序列 tuple, str,bytes"
   ]
  },
  {
   "cell_type": "markdown",
   "metadata": {},
   "source": [
    "### 2.2 列表推导和生成器表达式\n",
    "\n",
    "通常原则：只用列表推导来创建新的列表，并且尽量保持简短。\n",
    "\n",
    "句法提示：Python 会忽略代码里[],{}和()中的换行，因此如果你的代码里有多行的列表、列表推导、生成器表达式、字典这一类的，可以省略不太好看的续行符\\。\n",
    "\n",
    "对于 Python 3，列表推导不会再有变量泄漏的问题。列表推导、生成器表达式，以及同它们很相似的集合（set）推导和字典（dict）推导，在 Python 3 中都有了自己的局部作用域，就像函数似的。表达式内部的变量和赋值只在局部作用，表达式的上下文里的同名变量还可以被正常引用，局部变量并不会影响到它们。\n",
    "\n",
    "列表推导可以帮助我们把一个序列或是其他可迭代类型中的元素过滤或是加工，然后再新建一个列表。"
   ]
  },
  {
   "cell_type": "code",
   "execution_count": 2,
   "metadata": {},
   "outputs": [
    {
     "data": {
      "text/plain": [
       "[64, 35, 36, 37, 94, 38, 42]"
      ]
     },
     "execution_count": 2,
     "metadata": {},
     "output_type": "execute_result"
    }
   ],
   "source": [
    "symbols = '@#$%^&*'\n",
    "codes = [ord(symbol) for symbol in symbols]\n",
    "codes"
   ]
  },
  {
   "cell_type": "markdown",
   "metadata": {},
   "source": [
    "#### 列表推导同 filter 和 map 的比较"
   ]
  },
  {
   "cell_type": "code",
   "execution_count": 7,
   "metadata": {},
   "outputs": [
    {
     "name": "stdout",
     "output_type": "stream",
     "text": [
      "[65509, 165, 163, 8352, 65505]\n",
      "[65509, 165, 163, 8352, 65505]\n"
     ]
    }
   ],
   "source": [
    "symbols = '￥¥£₠￡$'\n",
    "beyond_ascii = [ord(s) for s in symbols if ord(s) > 127]\n",
    "print(beyond_ascii)\n",
    "beyond_ascii = list(filter(lambda c: c > 127, map(ord, symbols)))\n",
    "print(beyond_ascii)"
   ]
  },
  {
   "cell_type": "markdown",
   "metadata": {},
   "source": [
    "#### 笛卡尔积"
   ]
  },
  {
   "cell_type": "markdown",
   "metadata": {
    "collapsed": true
   },
   "source": [
    "R x S 笛卡尔积是一个列表，列表里的元素是由输入的可迭代类型的元素对构成的元组，因此笛卡尔积列表的长度等于输入变量的长度的乘积。"
   ]
  },
  {
   "cell_type": "code",
   "execution_count": 1,
   "metadata": {},
   "outputs": [
    {
     "data": {
      "text/plain": [
       "[('black', 'S'),\n",
       " ('black', 'M'),\n",
       " ('black', 'L'),\n",
       " ('white', 'S'),\n",
       " ('white', 'M'),\n",
       " ('white', 'L')]"
      ]
     },
     "execution_count": 1,
     "metadata": {},
     "output_type": "execute_result"
    }
   ],
   "source": [
    "colors = ['black', 'white']\n",
    "sizes = ['S', 'M', 'L']\n",
    "# 先以颜色排列，再以尺码排列\n",
    "tshirts = [(color, size) for color in colors\n",
    "                         for size in sizes]\n",
    "tshirts"
   ]
  },
  {
   "cell_type": "code",
   "execution_count": 2,
   "metadata": {},
   "outputs": [
    {
     "data": {
      "text/plain": [
       "[('black', 'S'),\n",
       " ('white', 'S'),\n",
       " ('black', 'M'),\n",
       " ('white', 'M'),\n",
       " ('black', 'L'),\n",
       " ('white', 'L')]"
      ]
     },
     "execution_count": 2,
     "metadata": {},
     "output_type": "execute_result"
    }
   ],
   "source": [
    "# 先以尺码排列，再以颜色排列\n",
    "tshirts = [(color, size) for size in sizes\n",
    "                         for color in colors]\n",
    "tshirts"
   ]
  },
  {
   "cell_type": "markdown",
   "metadata": {},
   "source": [
    "#### 生成器表达式"
   ]
  },
  {
   "cell_type": "code",
   "execution_count": 3,
   "metadata": {},
   "outputs": [
    {
     "name": "stdout",
     "output_type": "stream",
     "text": [
      "black S\n",
      "black M\n",
      "black L\n",
      "white S\n",
      "white M\n",
      "white L\n"
     ]
    }
   ],
   "source": [
    "for tshirt in ('%s %s' % (c, s) for c in colors for s in sizes):\n",
    "    print(tshirt)"
   ]
  },
  {
   "cell_type": "code",
   "execution_count": 4,
   "metadata": {},
   "outputs": [
    {
     "name": "stdout",
     "output_type": "stream",
     "text": [
      "(64, 35, 36, 37, 94, 38, 42)\n"
     ]
    }
   ],
   "source": [
    "# 用生成器表达式初始化元组\n",
    "symbols = '@#$%^&*'\n",
    "print(tuple(ord(symbol) for symbol in symbols))"
   ]
  },
  {
   "cell_type": "code",
   "execution_count": 6,
   "metadata": {},
   "outputs": [
    {
     "name": "stdout",
     "output_type": "stream",
     "text": [
      "array('I', [64, 35, 36, 37, 94, 38, 42])\n"
     ]
    }
   ],
   "source": [
    "# 用生成器表达式初始化数组\n",
    "import array\n",
    "print(array.array('I', (ord(symbol) for symbol in symbols)))"
   ]
  },
  {
   "cell_type": "markdown",
   "metadata": {},
   "source": [
    "### 2.3 元组不仅仅是不可变的列表"
   ]
  },
  {
   "cell_type": "markdown",
   "metadata": {},
   "source": [
    "#### 元组和记录\n",
    "\n",
    "如果把元组当作一些字段的集合，那么数量和位置信息就变得非常重要了。如果在任何元组内对元素排序，这些元素所携带的信息就会丢失，因为这些信息是跟它们的位置有关的。"
   ]
  },
  {
   "cell_type": "code",
   "execution_count": 8,
   "metadata": {},
   "outputs": [
    {
     "name": "stdout",
     "output_type": "stream",
     "text": [
      "BRACE342567\n",
      "ESPXDA205856\n",
      "USA31195855\n",
      "USA\n",
      "BRA\n",
      "ESP\n"
     ]
    }
   ],
   "source": [
    "# 把元组用作记录\n",
    "lax_cordinates = (33.9, -118.3)\n",
    "traveler_ids = [('USA', '31195855'), ('BRA', 'CE342567'), ('ESP', 'XDA205856')]\n",
    "\n",
    "# 排序，迭代过程中 passport 变量被绑定到每个元组上\n",
    "for passport in sorted(traveler_ids):\n",
    "    # %s 格式运算符能被匹配到对应的元组元素上\n",
    "    print('%s%s' % passport)\n",
    "    \n",
    "# 拆包 unpacking\n",
    "for country, _ in traveler_ids:\n",
    "    print(country)"
   ]
  },
  {
   "cell_type": "markdown",
   "metadata": {},
   "source": [
    "#### 元组拆包\n",
    "\n"
   ]
  },
  {
   "cell_type": "markdown",
   "metadata": {
    "collapsed": true
   },
   "source": [
    "* 元组拆包可以应用到任何迭代对象上，唯一的硬性要求：被可迭代对象的元素数必须要跟接受这些元素的元组的空档数一致\n",
    "* 应用形式：\n",
    "\n",
    "> * 平行赋值\n",
    "\n",
    "> * 不使用中间变量交换两个变量的值\n",
    "\n",
    "> * 用 \\* 运算符把一个可迭代对象拆开作为函数的参数\n",
    "\n",
    "> * 让一个函数可以以元组的形式返回多个值。然后调用函数的代码就能轻松地接受这些返回值\n",
    "\n",
    "> * 我们不总是对元组里所有的数据都感兴趣，\\_ 占位符可以处理这种情况\n",
    "\n",
    "> * 用 \\* 来处理剩下的元素 (\\*args)（平行赋值中，\\* 前缀只能用在一个变量名前面，这个变量可以出现在赋值表达式的任意位置）\n",
    "\n",
    "> * \\* 可以应用在嵌套结构中"
   ]
  },
  {
   "cell_type": "markdown",
   "metadata": {},
   "source": [
    "####  嵌套元组拆包"
   ]
  },
  {
   "cell_type": "markdown",
   "metadata": {},
   "source": [
    "* 只要这个接受元组的嵌套结构符合表达式本身的嵌套结构，Python 就可以做出正确回应。\n",
    "* 在 Python 3 之前，元组可以作为形参放在函数声明中，例如 def fn(a, (b, c), d):。然而 Python 3 不再支持这种格式。\n",
    "* namedtuple 可以解决给记录中的字段命名的问题"
   ]
  },
  {
   "cell_type": "code",
   "execution_count": 5,
   "metadata": {},
   "outputs": [
    {
     "data": {
      "text/plain": [
       "City(name='Tokyo', country='JP', population='36.933', coordinates=(35.689722, 139.691667))"
      ]
     },
     "execution_count": 5,
     "metadata": {},
     "output_type": "execute_result"
    }
   ],
   "source": [
    "from collections import namedtuple\n",
    "\n",
    "City = namedtuple('City', 'name country population coordinates')\n",
    "tokyo = City('Tokyo', 'JP', '36.933', (35.689722, 139.691667))\n",
    "tokyo"
   ]
  },
  {
   "cell_type": "code",
   "execution_count": 6,
   "metadata": {},
   "outputs": [
    {
     "name": "stdout",
     "output_type": "stream",
     "text": [
      "36.933\n",
      "(35.689722, 139.691667)\n"
     ]
    }
   ],
   "source": [
    "print(tokyo.population)\n",
    "print(tokyo.coordinates)"
   ]
  },
  {
   "cell_type": "markdown",
   "metadata": {},
   "source": [
    "#### 具名元组\n",
    "\n",
    "* 创建一个具名元组需要两个参数，一个是类名，另一个是类的每个字段的名字，后者可以是由数个字符串组成的可迭代对象，或者是由空格分隔开的字段名组成的字符串。\n",
    "* 存放在对应字段的数据要以一串参数的形式传入到构造函数中（注意：元组的构造函数只接受单一的可迭代对象）\n",
    "* 可以通过字段名或者位置来获得一个字段的信息\n",
    "* 除了从普通元组继承来的属性外，具名元组还有一些自己的属性：_fields 属性、类方法 _make(iterable) 和实例方法 _asdict()。\n",
    "> * _fields 属性是一个包含这个类所有字段名称的元组。\n",
    "> * 用 _make() 通过接受一个可迭代对象来生成这个类的一个实例\n",
    "> * _asdict() 把具名元组以 collections.OrderdDict 的形式返回，可以用它把元组里的信息友好地呈现出来。"
   ]
  },
  {
   "cell_type": "markdown",
   "metadata": {},
   "source": [
    "####  作为不可变列表的元组\n",
    "\n",
    "* 除了跟增减元素相关的方法之外，元组支持列表的其它所有方法。\n",
    "* 元组没有 __reversed__ 方法，reversed(my_tuple)这个用法在没有 __reversed__ 的情况下也是合法的。\n",
    "* 列表和元组的方法及属性对比表"
   ]
  },
  {
   "cell_type": "markdown",
   "metadata": {
    "collapsed": true
   },
   "source": [
    "###  2.4 切片"
   ]
  },
  {
   "cell_type": "markdown",
   "metadata": {},
   "source": [
    "为什么切片和区间会忽略最后一个元素？\n",
    "> * 当只有最后一个位置信息时，我们也可以快速看出切片和区间里有几个元素，如 range(3) 和 mylist[:3] 都返回3个元素。\n",
    "> * 当起止位置信息都可见时，我们可以快速计算出切片和区间的长度，用后一个数减去第一个下标（stop-start）即可。\n",
    "> * 这样做也让我们可以利用任意一个下标来把序列分割成不重叠的两部分，只要写成 my_list[:x] 和 my_list[x:] 就可以了。"
   ]
  },
  {
   "cell_type": "markdown",
   "metadata": {},
   "source": [
    "#### 对对象进行切片\n",
    "\n",
    "> * 对 seq[start:stop:step] 进行求值的时候，Python 会调用 seq.\\_\\_getitem\\_\\_(slice(start, stop, step))\n",
    "> * 可以给切片命名来处理纯文本文件"
   ]
  },
  {
   "cell_type": "markdown",
   "metadata": {},
   "source": [
    "#### 多维切片和省略\n",
    "\n",
    "> * []运算符里还可以使用以逗号分开的多个索引或者是切片，例如二维的 numpy.ndarray 就可以用 a[i, j] 这种形式来获取，抑或是 a[m:n, k:l]。\n",
    "> * 要正确处理这种运算符的话，对象的特殊方法 \\_\\_getitem\\_\\_ 和 \\_\\_setitem\\_\\_ 需要以元组的形式来接收 a[i, j] 中的索引。即 Python 会调用 a.\\_\\_getitem\\_\\_((i, j))。\n",
    "> * 切片还可用来就地修改可变序列，也就是说修改的时候不需要重新组建序列。"
   ]
  },
  {
   "cell_type": "markdown",
   "metadata": {},
   "source": [
    "#### 给切片赋值\n",
    "\n",
    "> * 如果把切片放在赋值语句的左边，或把它作为 del 操作的对象，我们就可以对序列进行嫁接、切除或就地修改操作。\n",
    "> * 如果赋值的对象是一个切片，那么赋值语句的右侧必须是个可迭代对象。即便只有单独一个值，也要把它转换成可迭代的序列。"
   ]
  },
  {
   "cell_type": "code",
   "execution_count": 5,
   "metadata": {},
   "outputs": [
    {
     "data": {
      "text/plain": [
       "[0, 1, 2, 3, 4, 5, 6, 7, 8, 9]"
      ]
     },
     "execution_count": 5,
     "metadata": {},
     "output_type": "execute_result"
    }
   ],
   "source": [
    "l = list(range(10))\n",
    "l"
   ]
  },
  {
   "cell_type": "code",
   "execution_count": 6,
   "metadata": {},
   "outputs": [
    {
     "data": {
      "text/plain": [
       "[0, 1, 20, 30, 5, 6, 7, 8, 9]"
      ]
     },
     "execution_count": 6,
     "metadata": {},
     "output_type": "execute_result"
    }
   ],
   "source": [
    "l[2:5] = [20, 30]\n",
    "l"
   ]
  },
  {
   "cell_type": "code",
   "execution_count": 7,
   "metadata": {},
   "outputs": [
    {
     "data": {
      "text/plain": [
       "[0, 1, 20, 30, 5, 8, 9]"
      ]
     },
     "execution_count": 7,
     "metadata": {},
     "output_type": "execute_result"
    }
   ],
   "source": [
    "del l[5:7]\n",
    "l"
   ]
  },
  {
   "cell_type": "code",
   "execution_count": 8,
   "metadata": {},
   "outputs": [
    {
     "data": {
      "text/plain": [
       "[0, 1, 20, 11, 5, 22, 9]"
      ]
     },
     "execution_count": 8,
     "metadata": {},
     "output_type": "execute_result"
    }
   ],
   "source": [
    "l[3::2] = [11, 22]\n",
    "l"
   ]
  },
  {
   "cell_type": "code",
   "execution_count": 9,
   "metadata": {},
   "outputs": [
    {
     "ename": "TypeError",
     "evalue": "can only assign an iterable",
     "output_type": "error",
     "traceback": [
      "\u001b[1;31m---------------------------------------------------------------------------\u001b[0m",
      "\u001b[1;31mTypeError\u001b[0m                                 Traceback (most recent call last)",
      "\u001b[1;32m<ipython-input-9-e500d102d83b>\u001b[0m in \u001b[0;36m<module>\u001b[1;34m()\u001b[0m\n\u001b[1;32m----> 1\u001b[1;33m \u001b[0ml\u001b[0m\u001b[1;33m[\u001b[0m\u001b[1;36m2\u001b[0m\u001b[1;33m:\u001b[0m\u001b[1;36m5\u001b[0m\u001b[1;33m]\u001b[0m \u001b[1;33m=\u001b[0m \u001b[1;36m100\u001b[0m\u001b[1;33m\u001b[0m\u001b[0m\n\u001b[0m",
      "\u001b[1;31mTypeError\u001b[0m: can only assign an iterable"
     ]
    }
   ],
   "source": [
    "l[2:5] = 100"
   ]
  },
  {
   "cell_type": "code",
   "execution_count": 10,
   "metadata": {},
   "outputs": [
    {
     "data": {
      "text/plain": [
       "[0, 1, 100, 22, 9]"
      ]
     },
     "execution_count": 10,
     "metadata": {},
     "output_type": "execute_result"
    }
   ],
   "source": [
    "l[2:5] = [100]\n",
    "l"
   ]
  },
  {
   "cell_type": "markdown",
   "metadata": {},
   "source": [
    "### 2.5 对序列使用 + 和 * "
   ]
  },
  {
   "cell_type": "markdown",
   "metadata": {},
   "source": [
    "在拼接的过程中，两个被操作的序列都不会被修改，Python 会新建一个包含同样类型数据的序列来作为拼接的结果。\n",
    "\n",
    "如果想要把一个序列复制几份然后再拼接起来，更快捷的做法是把这个序列乘以一个整数。\n",
    "\n",
    "建立由列表组成的列表\n",
    "> * 有时我们会需要初始化一个嵌套着几个列表的列表，最好的选择是使用列表推导。\n",
    "> * 含有指向同一对象的引用的列表是毫无用处的。"
   ]
  },
  {
   "cell_type": "code",
   "execution_count": 13,
   "metadata": {},
   "outputs": [
    {
     "data": {
      "text/plain": [
       "[1, 2, 3, 1, 2, 3, 1, 2, 3, 1, 2, 3, 1, 2, 3]"
      ]
     },
     "execution_count": 13,
     "metadata": {},
     "output_type": "execute_result"
    }
   ],
   "source": [
    "l = [1, 2, 3]\n",
    "l * 5"
   ]
  },
  {
   "cell_type": "code",
   "execution_count": 14,
   "metadata": {},
   "outputs": [
    {
     "data": {
      "text/plain": [
       "'abcdabcdabcdabcdabcd'"
      ]
     },
     "execution_count": 14,
     "metadata": {},
     "output_type": "execute_result"
    }
   ],
   "source": [
    "5 * 'abcd'"
   ]
  },
  {
   "cell_type": "code",
   "execution_count": 16,
   "metadata": {},
   "outputs": [
    {
     "data": {
      "text/plain": [
       "[['_', '_', '_'], ['_', '_', '_'], ['_', '_', '_']]"
      ]
     },
     "execution_count": 16,
     "metadata": {},
     "output_type": "execute_result"
    }
   ],
   "source": [
    "# 正确\n",
    "board = [['_'] * 3 for i in range(3)]\n",
    "board"
   ]
  },
  {
   "cell_type": "code",
   "execution_count": 18,
   "metadata": {},
   "outputs": [
    {
     "data": {
      "text/plain": [
       "[['_', '_', '_'], ['_', '_', 'X'], ['_', '_', '_']]"
      ]
     },
     "execution_count": 18,
     "metadata": {},
     "output_type": "execute_result"
    }
   ],
   "source": [
    "board[1][2] = 'X'\n",
    "board"
   ]
  },
  {
   "cell_type": "code",
   "execution_count": 19,
   "metadata": {},
   "outputs": [
    {
     "data": {
      "text/plain": [
       "[['_', '_', '_'], ['_', '_', '_'], ['_', '_', '_']]"
      ]
     },
     "execution_count": 19,
     "metadata": {},
     "output_type": "execute_result"
    }
   ],
   "source": [
    "# 错误\n",
    "weird_board = [['_'] * 3] * 3\n",
    "weird_board"
   ]
  },
  {
   "cell_type": "code",
   "execution_count": 20,
   "metadata": {},
   "outputs": [
    {
     "data": {
      "text/plain": [
       "[['_', '_', 'X'], ['_', '_', 'X'], ['_', '_', 'X']]"
      ]
     },
     "execution_count": 20,
     "metadata": {},
     "output_type": "execute_result"
    }
   ],
   "source": [
    "weird_board[1][2] = 'X'\n",
    "weird_board"
   ]
  },
  {
   "cell_type": "markdown",
   "metadata": {},
   "source": [
    "### 2.6 序列的增量赋值 "
   ]
  },
  {
   "cell_type": "markdown",
   "metadata": {},
   "source": [
    "+= 背后的特殊方法是 \\_\\_iadd\\_\\_ （用于“就地加法”）。但是如果一个类没有实现这个方法的话，Python 会退一步调用 \\_\\_add\\_\\_。\n",
    "\n",
    "变量名会不会被关联到新的对象，完全取决于这个类型有没有实现 \\_\\_iadd\\_\\_ 这个方法。总体来说，可变序列一般都实现了该方法。\n",
    "\n",
    "*= 对应 \\_\\_imul\\_\\_\n",
    "\n",
    "对不可变序列进行重复拼接操作的话，效率会很低，因为每次都有一个新对象，而解释器需要把原来对象中的元素先复制到新的对象里，然后再追加新的元素。"
   ]
  },
  {
   "cell_type": "markdown",
   "metadata": {},
   "source": [
    "####  一个关于 += 的谜题"
   ]
  },
  {
   "cell_type": "markdown",
   "metadata": {},
   "source": [
    "> * 不要把可变对象放在元组里面。\n",
    "> * 增量赋值不是一个原子操作。在上述例子中它虽然抛出了异常，但还是完成了操作。\n",
    "> * 查看 Python 的字节码并不难，而且它对我们了解代码背后的运行机制很有帮助。"
   ]
  },
  {
   "cell_type": "markdown",
   "metadata": {},
   "source": [
    "### 2.7 list.sort 方法和内置函数 sorted "
   ]
  },
  {
   "cell_type": "code",
   "execution_count": null,
   "metadata": {
    "collapsed": true
   },
   "outputs": [],
   "source": []
  }
 ],
 "metadata": {
  "kernelspec": {
   "display_name": "Python 3",
   "language": "python",
   "name": "python3"
  },
  "language_info": {
   "codemirror_mode": {
    "name": "ipython",
    "version": 3
   },
   "file_extension": ".py",
   "mimetype": "text/x-python",
   "name": "python",
   "nbconvert_exporter": "python",
   "pygments_lexer": "ipython3",
   "version": "3.6.1"
  }
 },
 "nbformat": 4,
 "nbformat_minor": 2
}
